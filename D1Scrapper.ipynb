{
 "cells": [
  {
   "cell_type": "code",
   "execution_count": 1,
   "id": "3b56729a-c44f-46bf-8aaa-755e6ee5d39f",
   "metadata": {},
   "outputs": [],
   "source": [
    "import time\n",
    "import os\n",
    "import lxml.html as html\n",
    "import pandas as pd\n",
    "import selenium\n",
    "from selenium import webdriver\n",
    "from selenium.webdriver.common.by import By\n",
    "from selenium.webdriver.support.ui import WebDriverWait\n",
    "from selenium.webdriver.support import expected_conditions as EC"
   ]
  },
  {
   "cell_type": "code",
   "execution_count": 2,
   "id": "5ba2e45e-887b-413a-8caf-b85803dcdf39",
   "metadata": {},
   "outputs": [],
   "source": [
    "driver = webdriver.Firefox()\n",
    "driver.get('https://domicilios.tiendasd1.com/')\n",
    "wait = WebDriverWait(driver, 10)"
   ]
  },
  {
   "cell_type": "code",
   "execution_count": 3,
   "id": "d31cab5d-9a97-45a7-8dab-acc3d5c36ef9",
   "metadata": {},
   "outputs": [],
   "source": [
    "boton_categorias = '//div[@data-testid=\"general-header\"]//div[@class=\"generalHeader__mainMenuBtn\"]'\n",
    "categorias = '//div[@class=\"ant-drawer-body\"]//ul[@class=\"categories-menu\"]//li[@class=\"categories-menu__item\"]' # falta agregar el número en []\n",
    "sub_categoria = '//div[@class=\"slick-slide slick-active slick-current\"]//h4[@class=\"categoriesNav-Header__subtitle\"]'\n",
    "productos = '//div[@class=\"infinite-scroll-component \"]'\n",
    "sig_pag = '//li[@class=\"ant-pagination-next\"]'\n",
    "numeracion = '//ul[@class=\"ant-pagination\"]'"
   ]
  },
  {
   "cell_type": "code",
   "execution_count": 4,
   "id": "4de6e813-f843-48c9-b669-2f15ff7068a7",
   "metadata": {},
   "outputs": [],
   "source": [
    "def w(x):\n",
    "    return time.sleep(x)"
   ]
  },
  {
   "cell_type": "code",
   "execution_count": 5,
   "id": "d4478612-0aac-492d-9cf1-5951a46138ce",
   "metadata": {},
   "outputs": [],
   "source": [
    "def click(x,obj=driver):\n",
    "    return obj.find_element(\"xpath\", x ).click()\n",
    "def click2(x,y,obj=driver):\n",
    "    u = x+'['+str(y)+']'\n",
    "    return obj.find_element(\"xpath\", u ).click()"
   ]
  },
  {
   "cell_type": "code",
   "execution_count": 6,
   "id": "57bc4c72-4c12-40bb-91e2-c97972d0bab4",
   "metadata": {},
   "outputs": [],
   "source": [
    "def text(x,obj=driver):\n",
    "    return obj.find_element(\"xpath\", x ).text"
   ]
  },
  {
   "cell_type": "code",
   "execution_count": 7,
   "id": "3e46224f-8dba-41c7-9903-fbd8070ef236",
   "metadata": {
    "tags": []
   },
   "outputs": [],
   "source": [
    "def select_category(a, b=boton_categorias, c=categorias, d=sub_categoria):\n",
    "    click(b)\n",
    "    w(1)\n",
    "    click2(c,a)\n",
    "    w(1)\n",
    "    click(d)"
   ]
  },
  {
   "cell_type": "code",
   "execution_count": 8,
   "id": "9b7936fa-8f3e-4622-a17d-4faf804f35a0",
   "metadata": {},
   "outputs": [],
   "source": [
    "def cant_pag(x=numeracion):\n",
    "    num_list = text(x).split('\\n')\n",
    "    num_mayor = num_list[-1]\n",
    "    return int(num_mayor)"
   ]
  },
  {
   "cell_type": "code",
   "execution_count": 9,
   "id": "d04cee7d-16da-47cb-89ab-a19329e3ecbc",
   "metadata": {},
   "outputs": [],
   "source": [
    "def listar(x=productos):\n",
    "    lista = text(x)\n",
    "    return lista.split('\\n')"
   ]
  },
  {
   "cell_type": "code",
   "execution_count": 10,
   "id": "4ae32c69-abfc-4d2e-9263-398587adeac7",
   "metadata": {},
   "outputs": [],
   "source": [
    "def precios():\n",
    "    lista = listar()\n",
    "    lista = lista[::3]\n",
    "    return lista"
   ]
  },
  {
   "cell_type": "code",
   "execution_count": 11,
   "id": "fc239170-9f58-47a5-9d5b-25df2b3164e4",
   "metadata": {},
   "outputs": [],
   "source": [
    "def nombre_prod():\n",
    "    lista = listar()\n",
    "    lista = lista[1::3]\n",
    "    return lista"
   ]
  },
  {
   "cell_type": "code",
   "execution_count": 12,
   "id": "0c5c1f88-3661-402f-95bb-1d73ca9645a3",
   "metadata": {},
   "outputs": [],
   "source": [
    "def cantidad_prod():\n",
    "    lista = listar()\n",
    "    lista = lista[2::3]\n",
    "    return lista"
   ]
  },
  {
   "cell_type": "code",
   "execution_count": 13,
   "id": "86badc4e-da28-4198-a8d7-9915a992ecac",
   "metadata": {},
   "outputs": [
    {
     "name": "stdout",
     "output_type": "stream",
     "text": [
      "Se acabó\n",
      "Se acabó\n",
      "Se acabó\n",
      "Se acabó\n",
      "Se acabó\n",
      "Se acabó\n",
      "Se acabó\n",
      "Se acabó\n",
      "Se acabó\n",
      "Se acabó\n",
      "Se acabó\n"
     ]
    }
   ],
   "source": [
    "i = 1\n",
    "o = 1\n",
    "total_precios = []\n",
    "total_nombres = []\n",
    "total_cantidad = []\n",
    "while o <= 11:\n",
    "    select_category(o)\n",
    "    w(1.5)\n",
    "    try:\n",
    "        u = cant_pag()\n",
    "    except:\n",
    "        u=1\n",
    "    while i <= u:\n",
    "        i+=1\n",
    "        w(1.5)\n",
    "        total_precios.extend(precios())\n",
    "        total_nombres.extend(nombre_prod())\n",
    "        total_cantidad.extend(cantidad_prod())\n",
    "        w(1)\n",
    "        try:\n",
    "            click(sig_pag)\n",
    "        except:\n",
    "            print('Se acabó')\n",
    "    i=1\n",
    "    o+=1\n",
    "    "
   ]
  },
  {
   "cell_type": "code",
   "execution_count": 14,
   "id": "a108b65a-9a86-4def-911f-7ef760d7d7ea",
   "metadata": {},
   "outputs": [
    {
     "data": {
      "text/plain": [
       "1138"
      ]
     },
     "execution_count": 14,
     "metadata": {},
     "output_type": "execute_result"
    }
   ],
   "source": [
    "len(total_precios)"
   ]
  },
  {
   "cell_type": "code",
   "execution_count": 15,
   "id": "615b08da-56d0-4f2e-a9cb-c0e8cd78485f",
   "metadata": {},
   "outputs": [
    {
     "data": {
      "text/plain": [
       "1138"
      ]
     },
     "execution_count": 15,
     "metadata": {},
     "output_type": "execute_result"
    }
   ],
   "source": [
    "len(total_nombres)"
   ]
  },
  {
   "cell_type": "code",
   "execution_count": 19,
   "id": "55580ddd-77bc-4354-a3d9-5e0bf70110d1",
   "metadata": {},
   "outputs": [],
   "source": [
    "driver.quit()"
   ]
  },
  {
   "cell_type": "code",
   "execution_count": 20,
   "id": "abbf10aa-c76f-437b-8f9e-a8a0ed8ad0a2",
   "metadata": {},
   "outputs": [],
   "source": [
    "columnas = ['Nombre_prod','Cantidad_prod','Precio_prod']"
   ]
  },
  {
   "cell_type": "code",
   "execution_count": 21,
   "id": "20880348-647a-468a-ad07-a922b90b1149",
   "metadata": {},
   "outputs": [],
   "source": [
    "df = pd.DataFrame(\n",
    "    list(zip(total_nombres,total_cantidad,total_precios)),\n",
    "    columns=columnas\n",
    ")"
   ]
  },
  {
   "cell_type": "code",
   "execution_count": 22,
   "id": "662bfcbb-612e-4058-9a9b-2577874d35bb",
   "metadata": {},
   "outputs": [
    {
     "name": "stdout",
     "output_type": "stream",
     "text": [
      "                                Nombre_prod        Cantidad_prod Precio_prod\n",
      "0                 LONCHERA RAMO 186 G 7 UND  186 g (g a $ 24,46)     $ 4.550\n",
      "1                SALSA MAÍZ DULCE ZEV 200GR  200 g (g a $ 11,95)     $ 2.390\n",
      "2             SALSA CREMA AHUMADA ZEV 200GR  200 g (g a $ 12,45)     $ 2.490\n",
      "3                   GALLETA OREO 6 PQ 216 G  216 g (g a $ 18,01)     $ 3.890\n",
      "4           CEREZAS MARRASCHINO AINOA 125 G   75 g (g a $ 58,53)     $ 4.390\n",
      "...                                     ...                  ...         ...\n",
      "1133  BOLSA ECOLÓGICA REUTILIZABLE 60X50CMS  1 un (un a $ 1.190)     $ 1.190\n",
      "1134    BOLSA ROJA REUTILIZABLE 40X42 CM D1  1 un (un a $ 1.990)     $ 1.990\n",
      "1135        CIGARRILLO LUCKY STRIKE GIN X10   10 un (un a $ 420)     $ 4.200\n",
      "1136           CIGARRILLO ROTHMANS AZUL X10   10 un (un a $ 390)     $ 3.900\n",
      "1137         CIGARRILLO ROTHMANS BLANCO X10   10 un (un a $ 300)     $ 3.000\n",
      "\n",
      "[1138 rows x 3 columns]\n"
     ]
    }
   ],
   "source": [
    "print(df)"
   ]
  },
  {
   "cell_type": "code",
   "execution_count": 23,
   "id": "a1b34307-a96c-4046-bec3-2427866f01b4",
   "metadata": {},
   "outputs": [],
   "source": [
    "df.to_csv('D1Precios.csv')"
   ]
  }
 ],
 "metadata": {
  "kernelspec": {
   "display_name": "Python 3 (ipykernel)",
   "language": "python",
   "name": "python3"
  },
  "language_info": {
   "codemirror_mode": {
    "name": "ipython",
    "version": 3
   },
   "file_extension": ".py",
   "mimetype": "text/x-python",
   "name": "python",
   "nbconvert_exporter": "python",
   "pygments_lexer": "ipython3",
   "version": "3.10.5"
  }
 },
 "nbformat": 4,
 "nbformat_minor": 5
}
