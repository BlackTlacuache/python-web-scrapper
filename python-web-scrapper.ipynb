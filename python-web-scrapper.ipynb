{
 "cells": [
  {
   "cell_type": "code",
   "execution_count": 1,
   "id": "3b56729a-c44f-46bf-8aaa-755e6ee5d39f",
   "metadata": {},
   "outputs": [],
   "source": [
    "import time\n",
    "import os\n",
    "import lxml.html as html\n",
    "import pandas as pd\n",
    "import selenium\n",
    "from selenium import webdriver\n",
    "from selenium.webdriver.common.by import By\n",
    "from selenium.webdriver.support.ui import WebDriverWait\n",
    "from selenium.webdriver.support import expected_conditions as EC"
   ]
  },
  {
   "cell_type": "code",
   "execution_count": 2,
   "id": "5ba2e45e-887b-413a-8caf-b85803dcdf39",
   "metadata": {},
   "outputs": [],
   "source": [
    "driver = webdriver.Firefox()\n",
    "driver.get('https://google.com')\n",
    "wait = WebDriverWait(driver, 10)"
   ]
  },
  {
   "cell_type": "code",
   "execution_count": 3,
   "id": "d31cab5d-9a97-45a7-8dab-acc3d5c36ef9",
   "metadata": {},
   "outputs": [],
   "source": [
    "boton_categorias = '<<Xpath_to_categories_button>>'\n",
    "categorias = 'xpath_to_specific_category' # falta agregar el número en []\n",
    "sub_categoria = 'xpath_to_subcategory'\n",
    "productos = 'xpath_to_the_data_container'\n",
    "sig_pag = 'xpath_to_click_on_next_page'\n",
    "numeracion = 'xpath_to_numerate_box'"
   ]
  },
  {
   "cell_type": "code",
   "execution_count": 4,
   "id": "4de6e813-f843-48c9-b669-2f15ff7068a7",
   "metadata": {},
   "outputs": [],
   "source": [
    "def w(x):\n",
    "    return time.sleep(x)"
   ]
  },
  {
   "cell_type": "code",
   "execution_count": 5,
   "id": "d4478612-0aac-492d-9cf1-5951a46138ce",
   "metadata": {},
   "outputs": [],
   "source": [
    "def click(x,obj=driver):\n",
    "    return obj.find_element(\"xpath\", x ).click()\n",
    "def click2(x,y,obj=driver):\n",
    "    u = x+'['+str(y)+']'\n",
    "    return obj.find_element(\"xpath\", u ).click()"
   ]
  },
  {
   "cell_type": "code",
   "execution_count": 6,
   "id": "57bc4c72-4c12-40bb-91e2-c97972d0bab4",
   "metadata": {},
   "outputs": [],
   "source": [
    "def text(x,obj=driver):\n",
    "    return obj.find_element(\"xpath\", x ).text"
   ]
  },
  {
   "cell_type": "code",
   "execution_count": 7,
   "id": "3e46224f-8dba-41c7-9903-fbd8070ef236",
   "metadata": {
    "tags": []
   },
   "outputs": [],
   "source": [
    "def select_category(a, b=boton_categorias, c=categorias, d=sub_categoria):\n",
    "    click(b)\n",
    "    w(1)\n",
    "    click2(c,a)\n",
    "    w(1)\n",
    "    click(d)"
   ]
  },
  {
   "cell_type": "code",
   "execution_count": 8,
   "id": "9b7936fa-8f3e-4622-a17d-4faf804f35a0",
   "metadata": {},
   "outputs": [],
   "source": [
    "def cant_pag(x=numeracion):\n",
    "    num_list = text(x).split('\\n')\n",
    "    num_mayor = num_list[-1]\n",
    "    return int(num_mayor)"
   ]
  },
  {
   "cell_type": "code",
   "execution_count": 9,
   "id": "d04cee7d-16da-47cb-89ab-a19329e3ecbc",
   "metadata": {},
   "outputs": [],
   "source": [
    "def listar(x=productos):\n",
    "    lista = text(x)\n",
    "    return lista.split('\\n')"
   ]
  },
  {
   "cell_type": "code",
   "execution_count": 10,
   "id": "4ae32c69-abfc-4d2e-9263-398587adeac7",
   "metadata": {},
   "outputs": [],
   "source": [
    "def precios():\n",
    "    lista = listar()\n",
    "    lista = lista[::3]\n",
    "    return lista"
   ]
  },
  {
   "cell_type": "code",
   "execution_count": 11,
   "id": "fc239170-9f58-47a5-9d5b-25df2b3164e4",
   "metadata": {},
   "outputs": [],
   "source": [
    "def nombre_prod():\n",
    "    lista = listar()\n",
    "    lista = lista[1::3]\n",
    "    return lista"
   ]
  },
  {
   "cell_type": "code",
   "execution_count": 12,
   "id": "0c5c1f88-3661-402f-95bb-1d73ca9645a3",
   "metadata": {},
   "outputs": [],
   "source": [
    "def cantidad_prod():\n",
    "    lista = listar()\n",
    "    lista = lista[2::3]\n",
    "    return lista"
   ]
  },
  {
   "cell_type": "markdown",
   "id": "913ca5fe-e17e-4aa2-89e6-a1fdde3740aa",
   "metadata": {},
   "source": [
    "Everything work until here! I need to correct the bolean and ready"
   ]
  },
  {
   "cell_type": "code",
   "execution_count": 13,
   "id": "86badc4e-da28-4198-a8d7-9915a992ecac",
   "metadata": {},
   "outputs": [
    {
     "ename": "InvalidSelectorException",
     "evalue": "Message: Given xpath expression \"<<Xpath_to_categories_button>>\" is invalid: SyntaxError: Document.evaluate: The expression is not a legal expression\nStacktrace:\nWebDriverError@chrome://remote/content/shared/webdriver/Errors.jsm:188:5\nInvalidSelectorError@chrome://remote/content/shared/webdriver/Errors.jsm:348:5\nfind_@chrome://remote/content/marionette/element.js:320:11\nelement.find/</findElements<@chrome://remote/content/marionette/element.js:274:24\nevalFn@chrome://remote/content/marionette/sync.js:136:7\nPollPromise/<@chrome://remote/content/marionette/sync.js:156:5\nPollPromise@chrome://remote/content/marionette/sync.js:127:10\nelement.find/<@chrome://remote/content/marionette/element.js:272:24\nelement.find@chrome://remote/content/marionette/element.js:271:10\nfindElement@chrome://remote/content/marionette/actors/MarionetteCommandsChild.jsm:245:25\nreceiveMessage@chrome://remote/content/marionette/actors/MarionetteCommandsChild.jsm:101:31\n",
     "output_type": "error",
     "traceback": [
      "\u001b[0;31m---------------------------------------------------------------------------\u001b[0m",
      "\u001b[0;31mInvalidSelectorException\u001b[0m                  Traceback (most recent call last)",
      "Input \u001b[0;32mIn [13]\u001b[0m, in \u001b[0;36m<cell line: 6>\u001b[0;34m()\u001b[0m\n\u001b[1;32m      5\u001b[0m total_cantidad \u001b[38;5;241m=\u001b[39m []\n\u001b[1;32m      6\u001b[0m \u001b[38;5;28;01mwhile\u001b[39;00m o \u001b[38;5;241m<\u001b[39m\u001b[38;5;241m=\u001b[39m \u001b[38;5;241m11\u001b[39m:\n\u001b[0;32m----> 7\u001b[0m     \u001b[43mselect_category\u001b[49m\u001b[43m(\u001b[49m\u001b[43mo\u001b[49m\u001b[43m)\u001b[49m\n\u001b[1;32m      8\u001b[0m     w(\u001b[38;5;241m1.5\u001b[39m)\n\u001b[1;32m      9\u001b[0m     \u001b[38;5;28;01mtry\u001b[39;00m:\n",
      "Input \u001b[0;32mIn [7]\u001b[0m, in \u001b[0;36mselect_category\u001b[0;34m(a, b, c, d)\u001b[0m\n\u001b[1;32m      1\u001b[0m \u001b[38;5;28;01mdef\u001b[39;00m \u001b[38;5;21mselect_category\u001b[39m(a, b\u001b[38;5;241m=\u001b[39mboton_categorias, c\u001b[38;5;241m=\u001b[39mcategorias, d\u001b[38;5;241m=\u001b[39msub_categoria):\n\u001b[0;32m----> 2\u001b[0m     \u001b[43mclick\u001b[49m\u001b[43m(\u001b[49m\u001b[43mb\u001b[49m\u001b[43m)\u001b[49m\n\u001b[1;32m      3\u001b[0m     w(\u001b[38;5;241m1\u001b[39m)\n\u001b[1;32m      4\u001b[0m     click2(c,a)\n",
      "Input \u001b[0;32mIn [5]\u001b[0m, in \u001b[0;36mclick\u001b[0;34m(x, obj)\u001b[0m\n\u001b[1;32m      1\u001b[0m \u001b[38;5;28;01mdef\u001b[39;00m \u001b[38;5;21mclick\u001b[39m(x,obj\u001b[38;5;241m=\u001b[39mdriver):\n\u001b[0;32m----> 2\u001b[0m     \u001b[38;5;28;01mreturn\u001b[39;00m \u001b[43mobj\u001b[49m\u001b[38;5;241;43m.\u001b[39;49m\u001b[43mfind_element\u001b[49m\u001b[43m(\u001b[49m\u001b[38;5;124;43m\"\u001b[39;49m\u001b[38;5;124;43mxpath\u001b[39;49m\u001b[38;5;124;43m\"\u001b[39;49m\u001b[43m,\u001b[49m\u001b[43m \u001b[49m\u001b[43mx\u001b[49m\u001b[43m \u001b[49m\u001b[43m)\u001b[49m\u001b[38;5;241m.\u001b[39mclick()\n",
      "File \u001b[0;32m~/.local/lib/python3.10/site-packages/selenium/webdriver/remote/webdriver.py:857\u001b[0m, in \u001b[0;36mWebDriver.find_element\u001b[0;34m(self, by, value)\u001b[0m\n\u001b[1;32m    854\u001b[0m     by \u001b[38;5;241m=\u001b[39m By\u001b[38;5;241m.\u001b[39mCSS_SELECTOR\n\u001b[1;32m    855\u001b[0m     value \u001b[38;5;241m=\u001b[39m \u001b[38;5;124m'\u001b[39m\u001b[38;5;124m[name=\u001b[39m\u001b[38;5;124m\"\u001b[39m\u001b[38;5;132;01m%s\u001b[39;00m\u001b[38;5;124m\"\u001b[39m\u001b[38;5;124m]\u001b[39m\u001b[38;5;124m'\u001b[39m \u001b[38;5;241m%\u001b[39m value\n\u001b[0;32m--> 857\u001b[0m \u001b[38;5;28;01mreturn\u001b[39;00m \u001b[38;5;28;43mself\u001b[39;49m\u001b[38;5;241;43m.\u001b[39;49m\u001b[43mexecute\u001b[49m\u001b[43m(\u001b[49m\u001b[43mCommand\u001b[49m\u001b[38;5;241;43m.\u001b[39;49m\u001b[43mFIND_ELEMENT\u001b[49m\u001b[43m,\u001b[49m\u001b[43m \u001b[49m\u001b[43m{\u001b[49m\n\u001b[1;32m    858\u001b[0m \u001b[43m    \u001b[49m\u001b[38;5;124;43m'\u001b[39;49m\u001b[38;5;124;43musing\u001b[39;49m\u001b[38;5;124;43m'\u001b[39;49m\u001b[43m:\u001b[49m\u001b[43m \u001b[49m\u001b[43mby\u001b[49m\u001b[43m,\u001b[49m\n\u001b[1;32m    859\u001b[0m \u001b[43m    \u001b[49m\u001b[38;5;124;43m'\u001b[39;49m\u001b[38;5;124;43mvalue\u001b[39;49m\u001b[38;5;124;43m'\u001b[39;49m\u001b[43m:\u001b[49m\u001b[43m \u001b[49m\u001b[43mvalue\u001b[49m\u001b[43m}\u001b[49m\u001b[43m)\u001b[49m[\u001b[38;5;124m'\u001b[39m\u001b[38;5;124mvalue\u001b[39m\u001b[38;5;124m'\u001b[39m]\n",
      "File \u001b[0;32m~/.local/lib/python3.10/site-packages/selenium/webdriver/remote/webdriver.py:435\u001b[0m, in \u001b[0;36mWebDriver.execute\u001b[0;34m(self, driver_command, params)\u001b[0m\n\u001b[1;32m    433\u001b[0m response \u001b[38;5;241m=\u001b[39m \u001b[38;5;28mself\u001b[39m\u001b[38;5;241m.\u001b[39mcommand_executor\u001b[38;5;241m.\u001b[39mexecute(driver_command, params)\n\u001b[1;32m    434\u001b[0m \u001b[38;5;28;01mif\u001b[39;00m response:\n\u001b[0;32m--> 435\u001b[0m     \u001b[38;5;28;43mself\u001b[39;49m\u001b[38;5;241;43m.\u001b[39;49m\u001b[43merror_handler\u001b[49m\u001b[38;5;241;43m.\u001b[39;49m\u001b[43mcheck_response\u001b[49m\u001b[43m(\u001b[49m\u001b[43mresponse\u001b[49m\u001b[43m)\u001b[49m\n\u001b[1;32m    436\u001b[0m     response[\u001b[38;5;124m'\u001b[39m\u001b[38;5;124mvalue\u001b[39m\u001b[38;5;124m'\u001b[39m] \u001b[38;5;241m=\u001b[39m \u001b[38;5;28mself\u001b[39m\u001b[38;5;241m.\u001b[39m_unwrap_value(\n\u001b[1;32m    437\u001b[0m         response\u001b[38;5;241m.\u001b[39mget(\u001b[38;5;124m'\u001b[39m\u001b[38;5;124mvalue\u001b[39m\u001b[38;5;124m'\u001b[39m, \u001b[38;5;28;01mNone\u001b[39;00m))\n\u001b[1;32m    438\u001b[0m     \u001b[38;5;28;01mreturn\u001b[39;00m response\n",
      "File \u001b[0;32m~/.local/lib/python3.10/site-packages/selenium/webdriver/remote/errorhandler.py:247\u001b[0m, in \u001b[0;36mErrorHandler.check_response\u001b[0;34m(self, response)\u001b[0m\n\u001b[1;32m    245\u001b[0m         alert_text \u001b[38;5;241m=\u001b[39m value[\u001b[38;5;124m'\u001b[39m\u001b[38;5;124malert\u001b[39m\u001b[38;5;124m'\u001b[39m]\u001b[38;5;241m.\u001b[39mget(\u001b[38;5;124m'\u001b[39m\u001b[38;5;124mtext\u001b[39m\u001b[38;5;124m'\u001b[39m)\n\u001b[1;32m    246\u001b[0m     \u001b[38;5;28;01mraise\u001b[39;00m exception_class(message, screen, stacktrace, alert_text)  \u001b[38;5;66;03m# type: ignore[call-arg]  # mypy is not smart enough here\u001b[39;00m\n\u001b[0;32m--> 247\u001b[0m \u001b[38;5;28;01mraise\u001b[39;00m exception_class(message, screen, stacktrace)\n",
      "\u001b[0;31mInvalidSelectorException\u001b[0m: Message: Given xpath expression \"<<Xpath_to_categories_button>>\" is invalid: SyntaxError: Document.evaluate: The expression is not a legal expression\nStacktrace:\nWebDriverError@chrome://remote/content/shared/webdriver/Errors.jsm:188:5\nInvalidSelectorError@chrome://remote/content/shared/webdriver/Errors.jsm:348:5\nfind_@chrome://remote/content/marionette/element.js:320:11\nelement.find/</findElements<@chrome://remote/content/marionette/element.js:274:24\nevalFn@chrome://remote/content/marionette/sync.js:136:7\nPollPromise/<@chrome://remote/content/marionette/sync.js:156:5\nPollPromise@chrome://remote/content/marionette/sync.js:127:10\nelement.find/<@chrome://remote/content/marionette/element.js:272:24\nelement.find@chrome://remote/content/marionette/element.js:271:10\nfindElement@chrome://remote/content/marionette/actors/MarionetteCommandsChild.jsm:245:25\nreceiveMessage@chrome://remote/content/marionette/actors/MarionetteCommandsChild.jsm:101:31\n"
     ]
    }
   ],
   "source": [
    "i = 1\n",
    "o = 1\n",
    "total_precios = []\n",
    "total_nombres = []\n",
    "total_cantidad = []\n",
    "while o <= 11:\n",
    "    select_category(o)\n",
    "    w(1.5)\n",
    "    try:\n",
    "        u = cant_pag()\n",
    "    except:\n",
    "        u=1\n",
    "    while i <= u:\n",
    "        i+=1\n",
    "        w(1.5)\n",
    "        total_precios.append(precios())\n",
    "        total_nombres.append(nombre_prod())\n",
    "        total_cantidad.append(cantidad_prod())\n",
    "        w(1)\n",
    "        try:\n",
    "            click(sig_pag)\n",
    "        except:\n",
    "            print('Sólo hay una página xd')\n",
    "    i=1\n",
    "    o+=1\n",
    "    "
   ]
  },
  {
   "cell_type": "code",
   "execution_count": null,
   "id": "a108b65a-9a86-4def-911f-7ef760d7d7ea",
   "metadata": {},
   "outputs": [],
   "source": [
    "len(total_precios[20])"
   ]
  }
 ],
 "metadata": {
  "kernelspec": {
   "display_name": "Python 3 (ipykernel)",
   "language": "python",
   "name": "python3"
  },
  "language_info": {
   "codemirror_mode": {
    "name": "ipython",
    "version": 3
   },
   "file_extension": ".py",
   "mimetype": "text/x-python",
   "name": "python",
   "nbconvert_exporter": "python",
   "pygments_lexer": "ipython3",
   "version": "3.10.5"
  }
 },
 "nbformat": 4,
 "nbformat_minor": 5
}
